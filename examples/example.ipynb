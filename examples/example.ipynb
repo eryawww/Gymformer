{
 "cells": [
  {
   "cell_type": "markdown",
   "metadata": {},
   "source": [
    "# Transformers RLHF Env"
   ]
  },
  {
   "cell_type": "markdown",
   "metadata": {},
   "source": [
    "## Training Reward Model"
   ]
  },
  {
   "cell_type": "code",
   "execution_count": 1,
   "metadata": {},
   "outputs": [
    {
     "name": "stderr",
     "output_type": "stream",
     "text": [
      "/home/ez/.cache/pypoetry/virtualenvs/finetuning-lm-from-human-preferences-4SAAosyV-py3.12/lib/python3.12/site-packages/tqdm/auto.py:21: TqdmWarning: IProgress not found. Please update jupyter and ipywidgets. See https://ipywidgets.readthedocs.io/en/stable/user_install.html\n",
      "  from .autonotebook import tqdm as notebook_tqdm\n",
      "Some weights of GPT2ForSequenceClassification were not initialized from the model checkpoint at openai-community/gpt2 and are newly initialized: ['score.weight']\n",
      "You should probably TRAIN this model on a down-stream task to be able to use it for predictions and inference.\n",
      "\u001b[34m\u001b[1mwandb\u001b[0m: \u001b[33mWARNING\u001b[0m The `run_name` is currently set to the same value as `TrainingArguments.output_dir`. If this was not intended, please specify a different run name by setting the `TrainingArguments.run_name` parameter.\n",
      "\u001b[34m\u001b[1mwandb\u001b[0m: Using wandb-core as the SDK backend.  Please refer to https://wandb.me/wandb-core for more information.\n",
      "\u001b[34m\u001b[1mwandb\u001b[0m: Currently logged in as: \u001b[33meryaw\u001b[0m to \u001b[32mhttps://api.wandb.ai\u001b[0m. Use \u001b[1m`wandb login --relogin`\u001b[0m to force relogin\n"
     ]
    },
    {
     "data": {
      "text/html": [
       "Tracking run with wandb version 0.19.8"
      ],
      "text/plain": [
       "<IPython.core.display.HTML object>"
      ]
     },
     "metadata": {},
     "output_type": "display_data"
    },
    {
     "data": {
      "text/html": [
       "Run data is saved locally in <code>/mnt/d/Code/Py/research/finetuning_lm_from_human_preferences/examples/wandb/run-20250512_201410-r1xr4guk</code>"
      ],
      "text/plain": [
       "<IPython.core.display.HTML object>"
      ]
     },
     "metadata": {},
     "output_type": "display_data"
    },
    {
     "data": {
      "text/html": [
       "Syncing run <strong><a href='https://wandb.ai/eryaw/huggingface/runs/r1xr4guk' target=\"_blank\">models/reward_model_new</a></strong> to <a href='https://wandb.ai/eryaw/huggingface' target=\"_blank\">Weights & Biases</a> (<a href='https://wandb.me/developer-guide' target=\"_blank\">docs</a>)<br>"
      ],
      "text/plain": [
       "<IPython.core.display.HTML object>"
      ]
     },
     "metadata": {},
     "output_type": "display_data"
    },
    {
     "data": {
      "text/html": [
       " View project at <a href='https://wandb.ai/eryaw/huggingface' target=\"_blank\">https://wandb.ai/eryaw/huggingface</a>"
      ],
      "text/plain": [
       "<IPython.core.display.HTML object>"
      ]
     },
     "metadata": {},
     "output_type": "display_data"
    },
    {
     "data": {
      "text/html": [
       " View run at <a href='https://wandb.ai/eryaw/huggingface/runs/r1xr4guk' target=\"_blank\">https://wandb.ai/eryaw/huggingface/runs/r1xr4guk</a>"
      ],
      "text/plain": [
       "<IPython.core.display.HTML object>"
      ]
     },
     "metadata": {},
     "output_type": "display_data"
    },
    {
     "name": "stderr",
     "output_type": "stream",
     "text": [
      "Could not estimate the number of tokens of the input, floating-point operations will not be computed\n"
     ]
    },
    {
     "data": {
      "text/html": [
       "\n",
       "    <div>\n",
       "      \n",
       "      <progress value='3' max='3' style='width:300px; height:20px; vertical-align: middle;'></progress>\n",
       "      [3/3 00:41, Epoch 1/1]\n",
       "    </div>\n",
       "    <table border=\"1\" class=\"dataframe\">\n",
       "  <thead>\n",
       " <tr style=\"text-align: left;\">\n",
       "      <th>Epoch</th>\n",
       "      <th>Training Loss</th>\n",
       "      <th>Validation Loss</th>\n",
       "      <th>Accuracy</th>\n",
       "      <th>Mrr</th>\n",
       "    </tr>\n",
       "  </thead>\n",
       "  <tbody>\n",
       "    <tr>\n",
       "      <td>1</td>\n",
       "      <td>No log</td>\n",
       "      <td>2.222384</td>\n",
       "      <td>0.150000</td>\n",
       "      <td>0.487500</td>\n",
       "    </tr>\n",
       "  </tbody>\n",
       "</table><p>"
      ],
      "text/plain": [
       "<IPython.core.display.HTML object>"
      ]
     },
     "metadata": {},
     "output_type": "display_data"
    },
    {
     "name": "stdout",
     "output_type": "stream",
     "text": [
      "Saving best reward model to models/reward_model_new\n",
      "Reward model saved successfully to models/reward_model_new\n"
     ]
    }
   ],
   "source": [
    "from gymformer.trainer import train_reward\n",
    "\n",
    "# There are numeruous ways to train a reward model\n",
    "# The purpose is to have trained torch.nn.Module that will be called by the environment\n",
    "\n",
    "# 1. Using our reward modeling from openai data\n",
    "# Implementation of Fine-Tuning Language Models from Human Preferences (https://arxiv.org/pdf/1909.08593)\n",
    "model = train_reward(\n",
    "    model_name=\"openai-community/gpt2\",\n",
    "    datasets_path=\"../data/descriptiveness_offline_5k\",\n",
    "    reward_model_path=\"models/reward_model_new\",\n",
    "    test_size=0.2,\n",
    "    batch_size=32,\n",
    "    epochs=20,\n",
    "    warmup_steps=500,\n",
    "    dry_run=True\n",
    ")\n",
    "\n",
    "\n",
    "# 2. Using huggingface standard classification model\n",
    "\n",
    "# from transformers import AutoTokenizer, AutoModelForSequenceClassification, TrainingArguments, Trainer\n",
    "# tokenizer = AutoTokenizer.from_pretrained(\"openai-community/gpt2\")\n",
    "# model = AutoModelForSequenceClassification.from_pretrained(\"openai-community/gpt2\", num_labels=1, problem_type='regression')\n",
    "# ...\n",
    "# trainer.train()"
   ]
  },
  {
   "cell_type": "code",
   "execution_count": 2,
   "metadata": {},
   "outputs": [],
   "source": [
    "from gymformer.trainer.trainer import load_reward_model\n",
    "\n",
    "# if using RewardModelWrapper, use this\n",
    "model = load_reward_model(\"models/reward_model_new\")\n",
    "# if using AutoModelForSequenceClassification, just directly load the model\n",
    "# model = AutoModelForSequenceClassification.from_pretrained(\"models/reward_model_new\", num_labels=1, problem_type='regression')"
   ]
  },
  {
   "cell_type": "markdown",
   "metadata": {},
   "source": [
    "## Training Language Model"
   ]
  },
  {
   "cell_type": "code",
   "execution_count": 3,
   "metadata": {},
   "outputs": [
    {
     "name": "stderr",
     "output_type": "stream",
     "text": [
      "Some weights of GPT2ForSequenceClassification were not initialized from the model checkpoint at openai-community/gpt2 and are newly initialized: ['score.weight']\n",
      "You should probably TRAIN this model on a down-stream task to be able to use it for predictions and inference.\n"
     ]
    }
   ],
   "source": [
    "from gymformer.rl.transformers_nn import LMActorNetwork, LMCriticNetwork\n",
    "from transformers import AutoTokenizer\n",
    "\n",
    "tokenizer = AutoTokenizer.from_pretrained(\"openai-community/gpt2\")\n",
    "actor = LMActorNetwork(\n",
    "    model_name=\"openai-community/gpt2\",\n",
    "    pad_token_id=tokenizer.eos_token_id,\n",
    ")\n",
    "critic = LMCriticNetwork(\n",
    "    model_name=\"openai-community/gpt2\",\n",
    "    pad_token_id=tokenizer.eos_token_id,\n",
    ")"
   ]
  },
  {
   "cell_type": "code",
   "execution_count": 2,
   "metadata": {},
   "outputs": [
    {
     "name": "stdout",
     "output_type": "stream",
     "text": [
      "====================\n",
      "[STATE]:\n",
      "  I wasn't the cause of her wearing them carelessly. I wasn't to blame that the thieves caught her unawares.\"\n",
      "\n",
      "Diamonds? There was a lie in this. Esther had worn no diamonds. The Evals had taken from her no diamonds. That was \"clean\" infrastructure and was now not radioactive. Apparently complaining was both Newcastle's business because of precious metal waste and from London.\n",
      "\n",
      "Mercury was resprising. The Newcastle baby's body started glow-in-the-dark. Soon, it was bad.\n",
      "\n",
      "A photograph of an\n",
      "[ACTION]:\n",
      "  an\n",
      "[REWARD]:\n",
      " 1.6049648427963257\n",
      "[DONE]:\n",
      " False\n",
      "[TRUNCATED]:\n",
      " True\n",
      "====================\n",
      "Episode 1, Running Reward: 3.20\n",
      "Saved checkpoint to ./models/ppo_RLHFEnv-v0_episode_1.pth\n"
     ]
    }
   ],
   "source": [
    "from gymformer.rl.ppo import PPOConfig\n",
    "from gymformer.trainer.trainer import train_agent\n",
    "from gymformer.env.rlhf_env import RLHFEnv # Important! Register the environment\n",
    "\n",
    "ppo_config = PPOConfig(\n",
    "    lr_actor=3e-4,\n",
    "    lr_critic=1e-3,\n",
    "    gamma=0.99,\n",
    "    eps_clip=0.2,\n",
    "    update_epochs=10,\n",
    "    minibatch_size=-1,\n",
    "    pad_obs=True,\n",
    "    int_obs=True,\n",
    ")\n",
    "callback = (\n",
    "    lambda state, action, reward, done, truncated, episode, running_reward: (\n",
    "        print(\"=\"*20),\n",
    "        print('[STATE]:\\n', tokenizer.decode(state)),\n",
    "        print('[ACTION]:\\n', tokenizer.decode(action)),\n",
    "        print('[REWARD]:\\n', reward),\n",
    "        print('[DONE]:\\n', done),\n",
    "        print('[TRUNCATED]:\\n', truncated),\n",
    "        print(\"=\"*20)\n",
    "    )\n",
    ")\n",
    "rewards_discrete = train_agent(\n",
    "    env_name='RLHFEnv-v0',\n",
    "    actor=actor,\n",
    "    critic=critic,\n",
    "    ppo_config=ppo_config,\n",
    "    max_episodes=1, \n",
    "    max_timesteps=1000, \n",
    "    update_interval=5, \n",
    "    save_interval=1,\n",
    "    callback=callback,\n",
    "    log_interval=1\n",
    ")"
   ]
  },
  {
   "cell_type": "code",
   "execution_count": 23,
   "metadata": {},
   "outputs": [
    {
     "name": "stderr",
     "output_type": "stream",
     "text": [
      "Setting `pad_token_id` to `eos_token_id`:50256 for open-end generation.\n"
     ]
    },
    {
     "data": {
      "text/plain": [
       "\"Hello, how are you?\\n\\nI'm a little bit of a nerd. I'm a big nerd. I'm a\""
      ]
     },
     "execution_count": 23,
     "metadata": {},
     "output_type": "execute_result"
    }
   ],
   "source": [
    "from transformers import AutoTokenizer\n",
    "from gymformer.trainer.trainer import load_ppo_agent\n",
    "\n",
    "# trained_critic is no longer needed in most cases\n",
    "trained_actor, trained_critic = load_ppo_agent(\"./models/ppo_RLHFEnv-v0_episode_1.pth\", actor, critic)\n",
    "\n",
    "# Specific task use, in RLHF we inference the actor model on text data\n",
    "tokenizer = AutoTokenizer.from_pretrained(\"openai-community/gpt2\")\n",
    "encoded = tokenizer(\"Hello, how are you?\", return_tensors=\"pt\").to(actor.lm_model.device)\n",
    "generated = trained_actor.lm_model.generate(**encoded)\n",
    "tokenizer.decode(generated[0])"
   ]
  },
  {
   "cell_type": "markdown",
   "metadata": {},
   "source": [
    "# RLVR"
   ]
  },
  {
   "cell_type": "code",
   "execution_count": null,
   "metadata": {},
   "outputs": [
    {
     "name": "stderr",
     "output_type": "stream",
     "text": [
      "/home/ez/.cache/pypoetry/virtualenvs/finetuning-lm-from-human-preferences-4SAAosyV-py3.12/lib/python3.12/site-packages/tqdm/auto.py:21: TqdmWarning: IProgress not found. Please update jupyter and ipywidgets. See https://ipywidgets.readthedocs.io/en/stable/user_install.html\n",
      "  from .autonotebook import tqdm as notebook_tqdm\n",
      "Sliding Window Attention is enabled but not implemented for `sdpa`; unexpected results may be encountered.\n",
      "Some weights of Qwen2ForSequenceClassification were not initialized from the model checkpoint at Qwen/Qwen2-0.5B-Instruct and are newly initialized: ['score.weight']\n",
      "You should probably TRAIN this model on a down-stream task to be able to use it for predictions and inference.\n"
     ]
    }
   ],
   "source": [
    "from gymformer.rl.transformers_nn import LMActorNetwork, LMCriticNetwork\n",
    "from transformers import AutoTokenizer\n",
    "\n",
    "MODEL_NAME = \"Qwen/Qwen2-0.5B-Instruct\"\n",
    "\n",
    "tokenizer = AutoTokenizer.from_pretrained(MODEL_NAME)\n",
    "actor = LMActorNetwork(\n",
    "    model_name=MODEL_NAME,\n",
    "    pad_token_id=tokenizer.pad_token_id if tokenizer.pad_token_id else tokenizer.eos_token_id,\n",
    ")\n",
    "critic = LMCriticNetwork(\n",
    "    model_name=MODEL_NAME,\n",
    "    pad_token_id=tokenizer.pad_token_id if tokenizer.pad_token_id else tokenizer.eos_token_id,\n",
    ")"
   ]
  },
  {
   "cell_type": "code",
   "execution_count": null,
   "metadata": {},
   "outputs": [],
   "source": [
    "from gymformer.rl.ppo import PPOConfig\n",
    "from gymformer.trainer.trainer import train_agent\n",
    "from gymformer.env.rlhf_env import RLHFEnv # Important! Register the environment\n",
    "\n",
    "ppo_config = PPOConfig(\n",
    "    lr_actor=3e-4,\n",
    "    lr_critic=1e-3,\n",
    "    gamma=0.99,\n",
    "    eps_clip=0.2,\n",
    "    update_epochs=10,\n",
    "    minibatch_size=-1,\n",
    "    pad_obs=True,\n",
    "    int_obs=True,\n",
    ")\n",
    "callback = (\n",
    "    lambda state, action, reward, done, truncated, episode, running_reward: (\n",
    "        print(\"=\"*20),\n",
    "        print('[STATE]:\\n', tokenizer.decode(state)),\n",
    "        print('[ACTION]:\\n', tokenizer.decode(action)),\n",
    "        print('[REWARD]:\\n', reward),\n",
    "        print('[DONE]:\\n', done),\n",
    "        print('[TRUNCATED]:\\n', truncated),\n",
    "        print(\"=\"*20)\n",
    "    )\n",
    ")\n",
    "rewards_discrete = train_agent(\n",
    "    env_name='CoTEnv-v0',\n",
    "    actor=actor,\n",
    "    critic=critic,\n",
    "    ppo_config=ppo_config,\n",
    "    max_episodes=3, \n",
    "    max_timesteps=400, \n",
    "    update_interval=5, \n",
    "    save_interval=3,\n",
    "    callback=callback,\n",
    "    log_interval=1\n",
    ")"
   ]
  },
  {
   "cell_type": "markdown",
   "metadata": {},
   "source": [
    "# Classic Env"
   ]
  },
  {
   "cell_type": "code",
   "execution_count": null,
   "metadata": {},
   "outputs": [],
   "source": [
    "from gymformer.rl.common_nn import MLPActorNetwork, MLPCriticNetwork\n",
    "from gymformer.rl.ppo import PPOConfig\n",
    "from gymformer.trainer.trainer import train_agent\n",
    "import gymnasium as gym\n",
    "\n",
    "env_name = 'CartPole-v1'\n",
    "env = gym.make(env_name)\n",
    "\n",
    "actor = MLPActorNetwork(\n",
    "    env.observation_space.shape[0],\n",
    "    64,\n",
    "    env.action_space.n,\n",
    ")\n",
    "critic = MLPCriticNetwork(\n",
    "    env.observation_space.shape[0],\n",
    "    64,\n",
    ")\n",
    "\n",
    "ppo_config = PPOConfig(\n",
    "    lr_actor=3e-4,\n",
    "    lr_critic=1e-3,\n",
    "    gamma=0.99,\n",
    "    eps_clip=0.2,\n",
    "    update_epochs=10,\n",
    "    minibatch_size=512\n",
    ")\n",
    "rewards_discrete = train_agent(\n",
    "    env_name=env_name,\n",
    "    actor=actor,\n",
    "    critic=critic,\n",
    "    ppo_config=ppo_config,\n",
    "    max_episodes=1000, \n",
    "    max_timesteps=1000, \n",
    "    update_interval=100, \n",
    "    save_interval=1000,\n",
    "    log_interval=100\n",
    ")"
   ]
  },
  {
   "cell_type": "code",
   "execution_count": 9,
   "metadata": {},
   "outputs": [
    {
     "data": {
      "image/png": "[encoded data removed]",
      "text/plain": [
       "<Figure size 640x480 with 1 Axes>"
      ]
     },
     "metadata": {},
     "output_type": "display_data"
    }
   ],
   "source": [
    "from gymformer.trainer.trainer import load_ppo_agent\n",
    "\n",
    "# trained_critic is no longer needed in most cases\n",
    "ppo_agent = load_ppo_agent(\"./models/PPO_CartPole-v1_100.pth\", actor, critic)\n",
    "\n",
    "# Specific task use, in CartPole we inference the actor model on simulation\n",
    "env = gym.make(env_name)\n",
    "obs, _ = env.reset()\n",
    "cumm_rewards = []\n",
    "cumm_reward = 0\n",
    "for _ in range(1000):\n",
    "    action = ppo_agent.select_action(obs)\n",
    "    obs, reward, done, truncated, info = env.step(action)\n",
    "    cumm_reward += reward\n",
    "    cumm_rewards.append(cumm_reward)\n",
    "\n",
    "# Visualize the reward\n",
    "import matplotlib.pyplot as plt\n",
    "plt.plot(cumm_rewards)\n",
    "plt.xlabel(\"Step\")\n",
    "plt.ylabel(\"Total Reward\")\n",
    "plt.show()"
   ]
  }
 ],
 "metadata": {
  "kernelspec": {
   "display_name": "finetuning-lm-from-human-preferences-4SAAosyV-py3.12",
   "language": "python",
   "name": "python3"
  },
  "language_info": {
   "codemirror_mode": {
    "name": "ipython",
    "version": 3
   },
   "file_extension": ".py",
   "mimetype": "text/x-python",
   "name": "python",
   "nbconvert_exporter": "python",
   "pygments_lexer": "ipython3",
   "version": "3.12.8"
  }
 },
 "nbformat": 4,
 "nbformat_minor": 2
}
