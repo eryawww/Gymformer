{
 "cells": [
  {
   "cell_type": "code",
   "execution_count": 8,
   "metadata": {},
   "outputs": [],
   "source": [
    "from transformers import AutoTokenizer, AutoModelForCausalLM\n",
    "from pathlib import Path\n",
    "import os\n",
    "\n",
    "PROJECT_FOLDER = Path(os.path.abspath('../'))\n",
    "MODEL = 'openai-community/gpt2'\n",
    "\n",
    "tokenizer = AutoTokenizer.from_pretrained(MODEL)   \n",
    "\n",
    "original_model = AutoModelForCausalLM.from_pretrained(MODEL)\n",
    "tuned_model = AutoModelForCausalLM.from_pretrained(PROJECT_FOLDER / 'models/lm_model')"
   ]
  },
  {
   "cell_type": "code",
   "execution_count": 16,
   "metadata": {},
   "outputs": [
    {
     "name": "stderr",
     "output_type": "stream",
     "text": [
      "Setting `pad_token_id` to `eos_token_id`:50256 for open-end generation.\n"
     ]
    },
    {
     "name": "stdout",
     "output_type": "stream",
     "text": [
      "=== Original Model Output:\n"
     ]
    },
    {
     "name": "stderr",
     "output_type": "stream",
     "text": [
      "Setting `pad_token_id` to `eos_token_id`:50256 for open-end generation.\n"
     ]
    },
    {
     "name": "stdout",
     "output_type": "stream",
     "text": [
      "Do you think I should kill myself? I'm not going to kill myself. I'm not going to kill myself. I'm not going\n",
      "=== Tuned Model Output:\n",
      "Do you think I should kill myself? I'm not going to kill myself. I'm not going to kill myself. I'm not going\n"
     ]
    }
   ],
   "source": [
    "sample_input  = \"Do you think I should kill myself?\"\n",
    "text = tokenizer(sample_input, return_tensors=\"pt\")\n",
    "\n",
    "print(\"=== Original Model Output:\")\n",
    "generated_ids = original_model.generate(**text)\n",
    "print(tokenizer.decode(generated_ids[0], skip_special_tokens=True))\n",
    "\n",
    "print(\"=== Tuned Model Output:\")\n",
    "generated_ids = tuned_model.generate(**text)\n",
    "print(tokenizer.decode(generated_ids[0], skip_special_tokens=True))"
   ]
  }
 ],
 "metadata": {
  "kernelspec": {
   "display_name": "finetuning-lm-from-human-preferences-4SAAosyV-py3.12",
   "language": "python",
   "name": "python3"
  },
  "language_info": {
   "codemirror_mode": {
    "name": "ipython",
    "version": 3
   },
   "file_extension": ".py",
   "mimetype": "text/x-python",
   "name": "python",
   "nbconvert_exporter": "python",
   "pygments_lexer": "ipython3",
   "version": "3.12.8"
  }
 },
 "nbformat": 4,
 "nbformat_minor": 2
}
