{
 "cells": [
  {
   "cell_type": "markdown",
   "metadata": {},
   "source": [
    "# Inference Reward"
   ]
  },
  {
   "cell_type": "code",
   "execution_count": 1,
   "metadata": {},
   "outputs": [
    {
     "name": "stderr",
     "output_type": "stream",
     "text": [
      "/home/ez/.cache/pypoetry/virtualenvs/finetuning-lm-from-human-preferences-4SAAosyV-py3.12/lib/python3.12/site-packages/tqdm/auto.py:21: TqdmWarning: IProgress not found. Please update jupyter and ipywidgets. See https://ipywidgets.readthedocs.io/en/stable/user_install.html\n",
      "  from .autonotebook import tqdm as notebook_tqdm\n"
     ]
    }
   ],
   "source": [
    "from transformers import AutoTokenizer\n",
    "from gymformer.lm.reward import RewardModelWrapper\n",
    "from pathlib import Path\n",
    "import os\n",
    "\n",
    "PROJECT_FOLDER = Path(os.path.abspath('../'))\n",
    "MODEL = 'openai-community/gpt2'\n",
    "\n",
    "tokenizer = AutoTokenizer.from_pretrained(MODEL)\n",
    "tokenizer.pad_token = tokenizer.eos_token\n",
    "reward_model = RewardModelWrapper.from_pretrained(PROJECT_FOLDER / 'models/reward_model')"
   ]
  },
  {
   "cell_type": "code",
   "execution_count": 4,
   "metadata": {},
   "outputs": [
    {
     "name": "stdout",
     "output_type": "stream",
     "text": [
      "{'input_ids': tensor([[ 5211,   345,   892,   314,   815,  1494,  3589,    30],\n",
      "        [   40,   481,  1464,  1842,   345, 50256, 50256, 50256]],\n",
      "       device='cuda:0'), 'attention_mask': tensor([[1, 1, 1, 1, 1, 1, 1, 1],\n",
      "        [1, 1, 1, 1, 1, 0, 0, 0]], device='cuda:0')}\n",
      "=== Reward Model Output:\n",
      "tensor([[-0.0595],\n",
      "        [ 0.8021]], device='cuda:0', grad_fn=<IndexBackward0>)\n"
     ]
    }
   ],
   "source": [
    "sample_input = [\"Do you think I should kill myself?\", \"I will always love you\"]\n",
    "\n",
    "text = tokenizer(sample_input, padding=True, return_tensors=\"pt\").to('cuda')\n",
    "print(text)\n",
    "\n",
    "print(\"=== Reward Model Output:\")\n",
    "reward = reward_model(**text).logits\n",
    "print(reward)"
   ]
  },
  {
   "cell_type": "markdown",
   "metadata": {},
   "source": [
    "# Inference LM"
   ]
  },
  {
   "cell_type": "code",
   "execution_count": 1,
   "metadata": {},
   "outputs": [
    {
     "name": "stderr",
     "output_type": "stream",
     "text": [
      "/home/ez/.cache/pypoetry/virtualenvs/finetuning-lm-from-human-preferences-4SAAosyV-py3.12/lib/python3.12/site-packages/tqdm/auto.py:21: TqdmWarning: IProgress not found. Please update jupyter and ipywidgets. See https://ipywidgets.readthedocs.io/en/stable/user_install.html\n",
      "  from .autonotebook import tqdm as notebook_tqdm\n"
     ]
    }
   ],
   "source": [
    "from transformers import AutoTokenizer, AutoModelForCausalLM\n",
    "from pathlib import Path\n",
    "import os\n",
    "\n",
    "PROJECT_FOLDER = Path(os.path.abspath('../'))\n",
    "MODEL = 'openai-community/gpt2'\n",
    "\n",
    "tokenizer = AutoTokenizer.from_pretrained(MODEL)   \n",
    "\n",
    "original_model = AutoModelForCausalLM.from_pretrained(MODEL)\n",
    "tuned_model = AutoModelForCausalLM.from_pretrained(PROJECT_FOLDER / 'models/lm_model')"
   ]
  },
  {
   "cell_type": "code",
   "execution_count": null,
   "metadata": {},
   "outputs": [],
   "source": [
    "sample_input  = \"Do you think I should kill myself?\"\n",
    "text = tokenizer(sample_input, return_tensors=\"pt\")\n",
    "\n",
    "print(\"=== Original Model Output:\")\n",
    "generated_ids = original_model.generate(**text)\n",
    "print(tokenizer.decode(generated_ids[0], skip_special_tokens=True))\n",
    "\n",
    "print(\"=== Tuned Model Output:\")\n",
    "generated_ids = tuned_model.generate(**text)\n",
    "print(tokenizer.decode(generated_ids[0], skip_special_tokens=True))"
   ]
  }
 ],
 "metadata": {
  "kernelspec": {
   "display_name": "finetuning-lm-from-human-preferences-4SAAosyV-py3.12",
   "language": "python",
   "name": "python3"
  },
  "language_info": {
   "codemirror_mode": {
    "name": "ipython",
    "version": 3
   },
   "file_extension": ".py",
   "mimetype": "text/x-python",
   "name": "python",
   "nbconvert_exporter": "python",
   "pygments_lexer": "ipython3",
   "version": "3.12.8"
  }
 },
 "nbformat": 4,
 "nbformat_minor": 2
}
