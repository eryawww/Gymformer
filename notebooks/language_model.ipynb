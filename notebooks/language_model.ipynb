{
 "cells": [
  {
   "cell_type": "code",
   "execution_count": 1,
   "metadata": {},
   "outputs": [],
   "source": [
    "import torch\n",
    "from transformers import AutoTokenizer, AutoModelForCausalLM\n",
    "\n",
    "# MODEL_NAME = 'openai-community/gpt2-large' TODO: change to gpt2-large\n",
    "MODEL_NAME = 'openai-community/gpt2'\n",
    "PROJECT_DIR = '../'\n",
    "\n",
    "tokenizer = AutoTokenizer.from_pretrained(MODEL_NAME)\n",
    "model = AutoModelForCausalLM.from_pretrained(MODEL_NAME)"
   ]
  },
  {
   "cell_type": "markdown",
   "metadata": {},
   "source": [
    "# Data"
   ]
  },
  {
   "cell_type": "code",
   "execution_count": 147,
   "metadata": {},
   "outputs": [],
   "source": [
    "import torch\n",
    "from transformers import AutoTokenizer, AutoModelForCausalLM\n",
    "\n",
    "# MODEL_NAME = 'openai-community/gpt2-large' TODO: change to gpt2-large\n",
    "MODEL_NAME = 'openai-community/gpt2'\n",
    "\n",
    "tokenizer_gpt2 = AutoTokenizer.from_pretrained('openai-community/gpt2')\n",
    "tokenizer_gpt2l = AutoTokenizer.from_pretrained('openai-community/gpt2-large')\n",
    "model = AutoModelForCausalLM.from_pretrained(MODEL_NAME)"
   ]
  },
  {
   "cell_type": "code",
   "execution_count": null,
   "metadata": {},
   "outputs": [
    {
     "data": {
      "text/plain": [
       "[True, True, True, True, True]"
      ]
     },
     "execution_count": 152,
     "metadata": {},
     "output_type": "execute_result"
    }
   ],
   "source": [
    "# test whether gpt2 and gpt2-large have exactly the same tokenization\n",
    "tests = [\n",
    "    \"Lorem ipsum dolor sit amet, consectetur adipiscing elit. Sed do eiusmod tempor incididunt ut labore et dolore magna aliqua.\",\n",
    "    \"The quick brown fox jumps over the lazy dog. The quick brown fox jumps over the lazy dog. The quick brown fox jumps over the lazy dog.\",\n",
    "    \"A random sentence generated for testing purposes. It contains a mix of words to simulate a real sentence.\",\n",
    "    \"This is another example of a random sentence used for testing. It helps to ensure the robustness of the code.\",\n",
    "    \"Yet another random sentence to add variety to the test cases. This one is designed to be different from the others.\"\n",
    "]\n",
    "\n",
    "def test_output(text: str):\n",
    "    input_ids_gpt2 = tokenizer_gpt2.encode(text, return_tensors='pt')\n",
    "    input_ids_gpt2l = tokenizer_gpt2l.encode(text, return_tensors='pt')\n",
    "    assert torch.equal(input_ids_gpt2, input_ids_gpt2l), \"Input ids are not equal: {} vs {}\".format(input_ids_gpt2, input_ids_gpt2l)\n",
    "    return True\n",
    "\n",
    "[ test_output(test) for test in tests ]"
   ]
  },
  {
   "cell_type": "code",
   "execution_count": null,
   "metadata": {},
   "outputs": [],
   "source": []
  }
 ],
 "metadata": {
  "kernelspec": {
   "display_name": "fine_tuning_from_human_references",
   "language": "python",
   "name": "python3"
  },
  "language_info": {
   "codemirror_mode": {
    "name": "ipython",
    "version": 3
   },
   "file_extension": ".py",
   "mimetype": "text/x-python",
   "name": "python",
   "nbconvert_exporter": "python",
   "pygments_lexer": "ipython3",
   "version": "3.11.11"
  }
 },
 "nbformat": 4,
 "nbformat_minor": 2
}
